{
 "cells": [
  {
   "cell_type": "code",
   "execution_count": 17,
   "id": "8ceee8b1-e231-46c1-af69-e313fb7ccef1",
   "metadata": {},
   "outputs": [
    {
     "name": "stdout",
     "output_type": "stream",
     "text": [
      "%pylab is deprecated, use %matplotlib inline and import the required libraries.\n",
      "Populating the interactive namespace from numpy and matplotlib\n"
     ]
    },
    {
     "name": "stderr",
     "output_type": "stream",
     "text": [
      "/app/conda/miniconda/lib/python3.9/site-packages/IPython/core/magics/pylab.py:162: UserWarning: pylab import has clobbered these variables: ['f', 'random', 'power', 'fft']\n",
      "`%matplotlib` prevents importing * from pylab and numpy\n",
      "  warn(\"pylab import has clobbered these variables: %s\"  % clobbered +\n"
     ]
    }
   ],
   "source": [
    "import matplotlib;\n",
    "\n",
    "\n",
    "#import seaborn as sns\n",
    "%pylab inline\n",
    "#from netCDF4 import Dataset\n",
    "import matplotlib.pyplot as plt;\n",
    "import pickle\n",
    "\n",
    "from pylab import *;\n",
    "#import cartopy as cp\n",
    "plt.rc('text', usetex=False)\n",
    "plt.rc('font', family='serif')\n",
    "asin=np.arcsin\n",
    "sqrt=np.sqrt\n",
    "sin=np.sin\n",
    "cos=np.cos\n",
    "pi=np.pi\n",
    "exp=np.exp\n",
    "tan=np.tan\n",
    "I=1j\n",
    "inf=np.inf\n",
    "pi=np.pi\n",
    "\n",
    "import pandas as pd;\n",
    "\n"
   ]
  },
  {
   "cell_type": "code",
   "execution_count": 3,
   "id": "3ace71b3-7b6d-456c-aac0-90eeaa8c92ff",
   "metadata": {},
   "outputs": [],
   "source": [
    "with open('DetStatic.pkl', 'rb') as f:\n",
    "    DetStatic = pickle.load(f)"
   ]
  },
  {
   "cell_type": "code",
   "execution_count": 5,
   "id": "d8a8843c-3cde-4e13-881a-575846c71ee9",
   "metadata": {},
   "outputs": [],
   "source": [
    "with open('NPPAtom.pkl', 'rb') as f:\n",
    "    NPPATOM = pickle.load(f)"
   ]
  },
  {
   "cell_type": "code",
   "execution_count": 6,
   "id": "f0e976ed-594d-4b6d-8a8b-49bb76c27824",
   "metadata": {},
   "outputs": [],
   "source": [
    "with open('NPPControl.pkl', 'rb') as f:\n",
    "    NPPControl = pickle.load(f)"
   ]
  },
  {
   "cell_type": "code",
   "execution_count": 7,
   "id": "d164f8f8-7692-4ce2-8c52-160657509efc",
   "metadata": {},
   "outputs": [],
   "source": [
    "with open('NPPGrowthRate.pkl', 'rb') as f:\n",
    "    NPPGrowthRate = pickle.load(f)"
   ]
  },
  {
   "cell_type": "code",
   "execution_count": 8,
   "id": "a65a0791-352c-4c29-9aaf-f31c0061e7c3",
   "metadata": {},
   "outputs": [],
   "source": [
    "with open('NPPTComp.pkl', 'rb') as f:\n",
    "    NPPTComp = pickle.load(f)"
   ]
  },
  {
   "cell_type": "code",
   "execution_count": 15,
   "id": "45cbc808-d2aa-45ef-8bc2-6a997e1c5a02",
   "metadata": {},
   "outputs": [],
   "source": [
    "with open('NPPFrugal.pkl', 'rb') as f:\n",
    "    NPPFrugal = pickle.load(f)"
   ]
  },
  {
   "cell_type": "code",
   "execution_count": 4,
   "id": "0ed59310-7688-47af-9791-f3fd28dcb230",
   "metadata": {},
   "outputs": [],
   "source": [
    "DetStatic = netCDF4.Dataset(\"/archive/George.Hagstrom/variableNP/MOM6_SIS2_COBALT/OM4p5_CORE2_IAF_variableNP_vLowLight12/gfdl.ncrc4-intel19-prod/pp/ocean_cobalt_omip_2d/ocean_cobalt_omip_2d.static.nc\")"
   ]
  },
  {
   "cell_type": "code",
   "execution_count": 11,
   "id": "6ef18879-ad3d-480d-a559-6c2f0a6fc342",
   "metadata": {},
   "outputs": [],
   "source": []
  },
  {
   "cell_type": "code",
   "execution_count": 16,
   "id": "500ec463-866e-4095-b7f3-fd277dc17e82",
   "metadata": {},
   "outputs": [],
   "source": [
    "TotalNPP = sum(sum((NPPATOM*DetStatic),1),0)/6.6*1e-15/1000*365\n",
    "TotalNPPTComp = sum(sum((NPPTComp*DetStatic),1),0)/6.6*1e-15/1000*365\n",
    "TotalNPPFrugal = sum(sum((NPPFrugal*DetStatic),1),0)/6.6*1e-15/1000*365\n",
    "TotalNPPGrowthRate = sum(sum((NPPGrowthRate*DetStatic),1),0)/6.6*1e-15/1000*365\n",
    "TotalNPPControl = sum(sum((NPPControl*DetStatic),1),0)/6.6*1e-15/1000*365"
   ]
  },
  {
   "cell_type": "code",
   "execution_count": null,
   "id": "e0d2c860-0916-4b41-8813-11d2e1f6c078",
   "metadata": {},
   "outputs": [],
   "source": []
  }
 ],
 "metadata": {
  "kernelspec": {
   "display_name": "Python 3 (ipykernel)",
   "language": "python",
   "name": "python3"
  },
  "language_info": {
   "codemirror_mode": {
    "name": "ipython",
    "version": 3
   },
   "file_extension": ".py",
   "mimetype": "text/x-python",
   "name": "python",
   "nbconvert_exporter": "python",
   "pygments_lexer": "ipython3",
   "version": "3.9.12"
  }
 },
 "nbformat": 4,
 "nbformat_minor": 5
}
