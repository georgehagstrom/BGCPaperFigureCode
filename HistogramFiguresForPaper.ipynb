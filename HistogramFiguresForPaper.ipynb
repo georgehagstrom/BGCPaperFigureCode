{
 "cells": [
  {
   "cell_type": "code",
   "execution_count": 2,
   "id": "987aaf9d-f4c2-4de6-ad3a-c8058f31efe3",
   "metadata": {},
   "outputs": [
    {
     "name": "stdout",
     "output_type": "stream",
     "text": [
      "%pylab is deprecated, use %matplotlib inline and import the required libraries.\n",
      "Populating the interactive namespace from numpy and matplotlib\n"
     ]
    },
    {
     "name": "stderr",
     "output_type": "stream",
     "text": [
      "/app/conda/miniconda/lib/python3.9/site-packages/IPython/core/magics/pylab.py:162: UserWarning: pylab import has clobbered these variables: ['random', 'fft', 'power']\n",
      "`%matplotlib` prevents importing * from pylab and numpy\n",
      "  warn(\"pylab import has clobbered these variables: %s\"  % clobbered +\n"
     ]
    }
   ],
   "source": [
    "import matplotlib;\n",
    "\n",
    "\n",
    "#import seaborn as sns\n",
    "%pylab inline\n",
    "#from netCDF4 import Dataset\n",
    "import matplotlib.pyplot as plt;\n",
    "import pickle\n",
    "\n",
    "\n",
    "from pylab import *;\n",
    "#import cartopy as cp\n",
    "plt.rc('text', usetex=False)\n",
    "plt.rc('font', family='serif')\n",
    "asin=np.arcsin\n",
    "sqrt=np.sqrt\n",
    "sin=np.sin\n",
    "cos=np.cos\n",
    "pi=np.pi\n",
    "exp=np.exp\n",
    "tan=np.tan\n",
    "I=1j\n",
    "inf=np.inf\n",
    "pi=np.pi\n",
    "\n",
    "import pandas as pd;\n",
    "\n"
   ]
  },
  {
   "cell_type": "code",
   "execution_count": 3,
   "id": "a963e411-41f9-42c5-811d-fbdadde736da",
   "metadata": {},
   "outputs": [],
   "source": [
    "with open('HighLatHist.pkl', 'rb') as f:\n",
    "    HighLatHist = pickle.load(f)"
   ]
  },
  {
   "cell_type": "code",
   "execution_count": null,
   "id": "77ce74a5-34bf-454f-a36c-20b43be8fc66",
   "metadata": {},
   "outputs": [],
   "source": []
  },
  {
   "cell_type": "code",
   "execution_count": 5,
   "id": "4e32a7c5-6973-49a1-892b-00e2bdfb3e6a",
   "metadata": {},
   "outputs": [
    {
     "data": {
      "text/plain": [
       "([], [])"
      ]
     },
     "execution_count": 5,
     "metadata": {},
     "output_type": "execute_result"
    },
    {
     "data": {
      "image/png": "[encoded data removed]",
      "text/plain": [
       "<Figure size 640x480 with 1 Axes>"
      ]
     },
     "metadata": {},
     "output_type": "display_data"
    }
   ],
   "source": [
    "\n",
    "NPVec = HighLatHist[\"NPATOMCobalt\"]\n",
    "NPVecControl = HighLatHist[\"NPCobaltControl\"]\n",
    "NPVecMask = HighLatHist[\"NPObs\"]\n",
    "NPMean = HighLatHist[\"NPATOMMean\"]\n",
    "NPControlMean = HighLatHist[\"NPControlMean\"]\n",
    "NPDataMean = HighLatHist[\"NPObsMean\"]\n",
    "\n",
    "NPLow = HighLatHist[\"NPATOMLow\"]\n",
    "NPControlLow = HighLatHist[\"NPControlLow\"]\n",
    "NPDataLow = HighLatHist[\"NPObsLow\"]\n",
    "\n",
    "NPHigh = HighLatHist[\"NPATOMHigh\"]\n",
    "NPControlHigh = HighLatHist[\"NPControlHigh\"]\n",
    "NPDataHigh = HighLatHist[\"NPObsHigh\"]\n",
    "\n",
    "\n",
    "plt.hist(NPVec,100,range=[4,40],density=1,alpha=0.7)\n",
    "plt.hist(NPVecControl,100,range=[4,40],density=1,alpha=0.7)\n",
    "plt.hist(NPVecMask,100,range=[4,40],density=1,alpha=0.7)\n",
    "\n",
    "\n",
    "\n",
    "\n",
    "plt.plot([NPMean],[0.45],marker=\"s\",markersize=15,label=\"Dynamic\",color='#1f77b4',alpha=0.7)\n",
    "plt.plot([NPControlMean],[0.475],marker=\"o\",markersize=15,color=\"orange\",label=\"Static\",alpha=0.7)\n",
    "plt.plot([NPDataMean],[0.5],marker=\"P\",markersize=15,color=\"green\",label=\"Obs\",alpha=0.7)\n",
    "\n",
    "\n",
    "plt.plot([NPLow,NPHigh],[0.45,0.45],marker=\"s\",markersize=0,alpha=0.7,color='#1f77b4',linewidth=\"5\")\n",
    "plt.plot([NPControlLow,NPControlHigh],[0.475,0.475],marker=\"o\",markersize=0,color=\"orange\",alpha=0.7,linewidth=\"5\")\n",
    "plt.plot([NPDataLow,NPDataHigh],[0.5,0.5],marker=\"P\",markersize=0,color=\"green\",alpha=0.7,linewidth=\"5\")\n",
    "\n",
    "\n",
    "plt.xlim([4,40])\n",
    "plt.xticks([10,20,30,40],fontsize=24)\n",
    "plt.yticks([])\n"
   ]
  },
  {
   "cell_type": "code",
   "execution_count": 7,
   "id": "5a4d475d-fffc-45a4-8a26-bb71c02c31dc",
   "metadata": {},
   "outputs": [
    {
     "data": {
      "text/plain": [
       "([], [])"
      ]
     },
     "execution_count": 7,
     "metadata": {},
     "output_type": "execute_result"
    },
    {
     "data": {
      "image/png": "[encoded data removed]",
      "text/plain": [
       "<Figure size 640x480 with 1 Axes>"
      ]
     },
     "metadata": {},
     "output_type": "display_data"
    }
   ],
   "source": [
    "with open('MidLatHCHist.pkl', 'rb') as f:\n",
    "    MidLatHCHist = pickle.load(f)\n",
    "NPVec = MidLatHCHist[\"NPATOMCobalt\"]\n",
    "NPVecControl = MidLatHCHist[\"NPCobaltControl\"]\n",
    "NPVecMask = MidLatHCHist[\"NPObs\"]\n",
    "NPMean = MidLatHCHist[\"NPATOMMean\"]\n",
    "NPControlMean = MidLatHCHist[\"NPControlMean\"]\n",
    "NPDataMean = MidLatHCHist[\"NPObsMean\"]\n",
    "\n",
    "NPLow = MidLatHCHist[\"NPATOMLow\"]\n",
    "NPControlLow = MidLatHCHist[\"NPControlLow\"]\n",
    "NPDataLow = MidLatHCHist[\"NPObsLow\"]\n",
    "\n",
    "NPHigh = MidLatHCHist[\"NPATOMHigh\"]\n",
    "NPControlHigh = MidLatHCHist[\"NPControlHigh\"]\n",
    "NPDataHigh = MidLatHCHist[\"NPObsHigh\"]\n",
    "\n",
    "\n",
    "plt.hist(NPVec,100,range=[4,40],density=1,alpha=0.7)\n",
    "plt.hist(NPVecControl,100,range=[4,40],density=1,alpha=0.7)\n",
    "plt.hist(NPVecMask,100,range=[4,40],density=1,alpha=0.7)\n",
    "\n",
    "\n",
    "\n",
    "\n",
    "plt.plot([NPMean],[0.45],marker=\"s\",markersize=15,label=\"Dynamic\",color='#1f77b4',alpha=0.7)\n",
    "plt.plot([NPControlMean],[0.475],marker=\"o\",markersize=15,color=\"orange\",label=\"Static\",alpha=0.7)\n",
    "plt.plot([NPDataMean],[0.5],marker=\"P\",markersize=15,color=\"green\",label=\"Obs\",alpha=0.7)\n",
    "\n",
    "\n",
    "plt.plot([NPLow,NPHigh],[0.45,0.45],marker=\"s\",markersize=0,alpha=0.7,color='#1f77b4',linewidth=\"5\")\n",
    "plt.plot([NPControlLow,NPControlHigh],[0.475,0.475],marker=\"o\",markersize=0,color=\"orange\",alpha=0.7,linewidth=\"5\")\n",
    "plt.plot([NPDataLow,NPDataHigh],[0.5,0.5],marker=\"P\",markersize=0,color=\"green\",alpha=0.7,linewidth=\"5\")\n",
    "\n",
    "\n",
    "plt.xlim([4,40])\n",
    "plt.xticks([10,20,30,40],fontsize=24)\n",
    "plt.yticks([])\n"
   ]
  },
  {
   "cell_type": "code",
   "execution_count": 8,
   "id": "26b640eb-71c0-4d3f-a38b-e091a94259a9",
   "metadata": {},
   "outputs": [
    {
     "data": {
      "text/plain": [
       "([], [])"
      ]
     },
     "execution_count": 8,
     "metadata": {},
     "output_type": "execute_result"
    },
    {
     "data": {
      "image/png": "[encoded data removed]",
      "text/plain": [
       "<Figure size 640x480 with 1 Axes>"
      ]
     },
     "metadata": {},
     "output_type": "display_data"
    }
   ],
   "source": [
    "with open('LowLatHCHist.pkl', 'rb') as f:\n",
    "    LowLatHCHist = pickle.load(f)\n",
    "NPVec = LowLatHCHist[\"NPATOMCobalt\"]\n",
    "NPVecControl = LowLatHCHist[\"NPCobaltControl\"]\n",
    "NPVecMask = LowLatHCHist[\"NPObs\"]\n",
    "NPMean = LowLatHCHist[\"NPATOMMean\"]\n",
    "NPControlMean = LowLatHCHist[\"NPControlMean\"]\n",
    "NPDataMean = LowLatHCHist[\"NPObsMean\"]\n",
    "\n",
    "NPLow = LowLatHCHist[\"NPATOMLow\"]\n",
    "NPControlLow = LowLatHCHist[\"NPControlLow\"]\n",
    "NPDataLow = LowLatHCHist[\"NPObsLow\"]\n",
    "\n",
    "NPHigh = LowLatHCHist[\"NPATOMHigh\"]\n",
    "NPControlHigh = LowLatHCHist[\"NPControlHigh\"]\n",
    "NPDataHigh = LowLatHCHist[\"NPObsHigh\"]\n",
    "\n",
    "\n",
    "plt.hist(NPVec,100,range=[4,40],density=1,alpha=0.7)\n",
    "plt.hist(NPVecControl,100,range=[4,40],density=1,alpha=0.7)\n",
    "plt.hist(NPVecMask,100,range=[4,40],density=1,alpha=0.7)\n",
    "\n",
    "\n",
    "\n",
    "\n",
    "plt.plot([NPMean],[0.45],marker=\"s\",markersize=15,label=\"Dynamic\",color='#1f77b4',alpha=0.7)\n",
    "plt.plot([NPControlMean],[0.475],marker=\"o\",markersize=15,color=\"orange\",label=\"Static\",alpha=0.7)\n",
    "plt.plot([NPDataMean],[0.5],marker=\"P\",markersize=15,color=\"green\",label=\"Obs\",alpha=0.7)\n",
    "\n",
    "\n",
    "plt.plot([NPLow,NPHigh],[0.45,0.45],marker=\"s\",markersize=0,alpha=0.7,color='#1f77b4',linewidth=\"5\")\n",
    "plt.plot([NPControlLow,NPControlHigh],[0.475,0.475],marker=\"o\",markersize=0,color=\"orange\",alpha=0.7,linewidth=\"5\")\n",
    "plt.plot([NPDataLow,NPDataHigh],[0.5,0.5],marker=\"P\",markersize=0,color=\"green\",alpha=0.7,linewidth=\"5\")\n",
    "\n",
    "\n",
    "plt.xlim([4,40])\n",
    "plt.xticks([10,20,30,40],fontsize=24)\n",
    "plt.yticks([])"
   ]
  },
  {
   "cell_type": "code",
   "execution_count": 9,
   "id": "95948964-3607-4954-9751-19dc98b9bb7e",
   "metadata": {},
   "outputs": [
    {
     "data": {
      "text/plain": [
       "([], [])"
      ]
     },
     "execution_count": 9,
     "metadata": {},
     "output_type": "execute_result"
    },
    {
     "data": {
      "image/png": "[encoded data removed]",
      "text/plain": [
       "<Figure size 640x480 with 1 Axes>"
      ]
     },
     "metadata": {},
     "output_type": "display_data"
    }
   ],
   "source": [
    "with open('OligoHist.pkl', 'rb') as f:\n",
    "    OligoHist = pickle.load(f)\n",
    "NPVec = OligoHist[\"NPATOMCobalt\"]\n",
    "NPVecControl = OligoHist[\"NPCobaltControl\"]\n",
    "NPVecMask = OligoHist[\"NPObs\"]\n",
    "NPMean = OligoHist[\"NPATOMMean\"]\n",
    "NPControlMean = OligoHist[\"NPControlMean\"]\n",
    "NPDataMean = OligoHist[\"NPObsMean\"]\n",
    "\n",
    "NPLow = OligoHist[\"NPATOMLow\"]\n",
    "NPControlLow = OligoHist[\"NPControlLow\"]\n",
    "NPDataLow = OligoHist[\"NPObsLow\"]\n",
    "\n",
    "NPHigh = OligoHist[\"NPATOMHigh\"]\n",
    "NPControlHigh = OligoHist[\"NPControlHigh\"]\n",
    "NPDataHigh = OligoHist[\"NPObsHigh\"]\n",
    "\n",
    "\n",
    "plt.hist(NPVec,100,range=[4,40],density=1,alpha=0.7)\n",
    "plt.hist(NPVecControl,100,range=[4,40],density=1,alpha=0.7)\n",
    "plt.hist(NPVecMask,100,range=[4,40],density=1,alpha=0.7)\n",
    "\n",
    "\n",
    "\n",
    "\n",
    "plt.plot([NPMean],[0.45],marker=\"s\",markersize=15,label=\"Dynamic\",color='#1f77b4',alpha=0.7)\n",
    "plt.plot([NPControlMean],[0.475],marker=\"o\",markersize=15,color=\"orange\",label=\"Static\",alpha=0.7)\n",
    "plt.plot([NPDataMean],[0.5],marker=\"P\",markersize=15,color=\"green\",label=\"Obs\",alpha=0.7)\n",
    "\n",
    "\n",
    "plt.plot([NPLow,NPHigh],[0.45,0.45],marker=\"s\",markersize=0,alpha=0.7,color='#1f77b4',linewidth=\"5\")\n",
    "plt.plot([NPControlLow,NPControlHigh],[0.475,0.475],marker=\"o\",markersize=0,color=\"orange\",alpha=0.7,linewidth=\"5\")\n",
    "plt.plot([NPDataLow,NPDataHigh],[0.5,0.5],marker=\"P\",markersize=0,color=\"green\",alpha=0.7,linewidth=\"5\")\n",
    "\n",
    "\n",
    "plt.xlim([4,40])\n",
    "plt.xticks([10,20,30,40],fontsize=24)\n",
    "plt.yticks([])\n"
   ]
  },
  {
   "cell_type": "code",
   "execution_count": null,
   "id": "595e1679-c317-4843-8da0-f75705c92bc4",
   "metadata": {},
   "outputs": [],
   "source": []
  }
 ],
 "metadata": {
  "kernelspec": {
   "display_name": "Python 3 (ipykernel)",
   "language": "python",
   "name": "python3"
  },
  "language_info": {
   "codemirror_mode": {
    "name": "ipython",
    "version": 3
   },
   "file_extension": ".py",
   "mimetype": "text/x-python",
   "name": "python",
   "nbconvert_exporter": "python",
   "pygments_lexer": "ipython3",
   "version": "3.9.12"
  }
 },
 "nbformat": 4,
 "nbformat_minor": 5
}
